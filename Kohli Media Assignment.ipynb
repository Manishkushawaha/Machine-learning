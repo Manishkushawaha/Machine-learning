{
 "cells": [
  {
   "cell_type": "code",
   "execution_count": 1,
   "id": "5efadda7",
   "metadata": {},
   "outputs": [],
   "source": [
    "import pandas as pd\n",
    "import numpy as np\n",
    "import warnings\n",
    "warnings.filterwarnings('ignore')\n",
    "import matplotlib.pyplot as plt"
   ]
  },
  {
   "cell_type": "code",
   "execution_count": 2,
   "id": "f98ffe35",
   "metadata": {},
   "outputs": [],
   "source": [
    "df = pd.read_csv(\"D:\\\\Data sets\\\\data scientist.csv\")"
   ]
  },
  {
   "cell_type": "code",
   "execution_count": 3,
   "id": "12e0433c",
   "metadata": {},
   "outputs": [
    {
     "data": {
      "text/html": [
       "<div>\n",
       "<style scoped>\n",
       "    .dataframe tbody tr th:only-of-type {\n",
       "        vertical-align: middle;\n",
       "    }\n",
       "\n",
       "    .dataframe tbody tr th {\n",
       "        vertical-align: top;\n",
       "    }\n",
       "\n",
       "    .dataframe thead th {\n",
       "        text-align: right;\n",
       "    }\n",
       "</style>\n",
       "<table border=\"1\" class=\"dataframe\">\n",
       "  <thead>\n",
       "    <tr style=\"text-align: right;\">\n",
       "      <th></th>\n",
       "      <th>No.</th>\n",
       "      <th>Subject Code</th>\n",
       "      <th>ISO ID</th>\n",
       "      <th>Aliquot number</th>\n",
       "      <th>Visit</th>\n",
       "      <th>Volume provided (ul)</th>\n",
       "      <th>Box</th>\n",
       "      <th>Position</th>\n",
       "      <th>Group</th>\n",
       "      <th>Remarks</th>\n",
       "      <th>...</th>\n",
       "      <th>hsa-miR-185-5p</th>\n",
       "      <th>hsa-miR-421</th>\n",
       "      <th>hsa-miR-628-5p</th>\n",
       "      <th>hsa-miR-3912-3p</th>\n",
       "      <th>hsa-miR-192-3p</th>\n",
       "      <th>hsa-miR-340-3p</th>\n",
       "      <th>hsa-miR-451a</th>\n",
       "      <th>hsa-miR-199a-3p</th>\n",
       "      <th>hsa-miR-17-3p</th>\n",
       "      <th>hsa-miR-365a-5p</th>\n",
       "    </tr>\n",
       "  </thead>\n",
       "  <tbody>\n",
       "    <tr>\n",
       "      <th>0</th>\n",
       "      <td>234</td>\n",
       "      <td>NBB0987/GCS</td>\n",
       "      <td>TC001</td>\n",
       "      <td>Plasma-1</td>\n",
       "      <td>Baseline</td>\n",
       "      <td>500</td>\n",
       "      <td>A Group  Box1</td>\n",
       "      <td>B8</td>\n",
       "      <td>A</td>\n",
       "      <td>NaN</td>\n",
       "      <td>...</td>\n",
       "      <td>24.498373</td>\n",
       "      <td>19.221303</td>\n",
       "      <td>16.229505</td>\n",
       "      <td>13.171829</td>\n",
       "      <td>12.559431</td>\n",
       "      <td>15.230967</td>\n",
       "      <td>32.556859</td>\n",
       "      <td>24.194348</td>\n",
       "      <td>19.892575</td>\n",
       "      <td>19.107364</td>\n",
       "    </tr>\n",
       "    <tr>\n",
       "      <th>1</th>\n",
       "      <td>519</td>\n",
       "      <td>TBB0215/RTB</td>\n",
       "      <td>TC002</td>\n",
       "      <td>Plasma-1</td>\n",
       "      <td>Baseline</td>\n",
       "      <td>500</td>\n",
       "      <td>AA Group  Box2</td>\n",
       "      <td>A4</td>\n",
       "      <td>AA</td>\n",
       "      <td>NaN</td>\n",
       "      <td>...</td>\n",
       "      <td>24.283489</td>\n",
       "      <td>18.985075</td>\n",
       "      <td>16.055242</td>\n",
       "      <td>13.856360</td>\n",
       "      <td>12.478251</td>\n",
       "      <td>15.517929</td>\n",
       "      <td>32.401758</td>\n",
       "      <td>23.435709</td>\n",
       "      <td>19.606120</td>\n",
       "      <td>19.475602</td>\n",
       "    </tr>\n",
       "    <tr>\n",
       "      <th>2</th>\n",
       "      <td>204</td>\n",
       "      <td>TC0245/NSM</td>\n",
       "      <td>TC003</td>\n",
       "      <td>Plasma-1</td>\n",
       "      <td>Baseline</td>\n",
       "      <td>500</td>\n",
       "      <td>CRC Box 3</td>\n",
       "      <td>E6</td>\n",
       "      <td>CRC</td>\n",
       "      <td>NaN</td>\n",
       "      <td>...</td>\n",
       "      <td>23.682307</td>\n",
       "      <td>17.929571</td>\n",
       "      <td>15.234474</td>\n",
       "      <td>12.547761</td>\n",
       "      <td>13.415850</td>\n",
       "      <td>14.038877</td>\n",
       "      <td>31.944128</td>\n",
       "      <td>22.295617</td>\n",
       "      <td>18.904924</td>\n",
       "      <td>18.364626</td>\n",
       "    </tr>\n",
       "    <tr>\n",
       "      <th>3</th>\n",
       "      <td>328</td>\n",
       "      <td>TBB0108/CHC</td>\n",
       "      <td>TC004</td>\n",
       "      <td>Plasma-1</td>\n",
       "      <td>Baseline</td>\n",
       "      <td>500</td>\n",
       "      <td>A Group  Box2</td>\n",
       "      <td>D3</td>\n",
       "      <td>A</td>\n",
       "      <td>NaN</td>\n",
       "      <td>...</td>\n",
       "      <td>25.063000</td>\n",
       "      <td>20.044156</td>\n",
       "      <td>17.226877</td>\n",
       "      <td>14.629492</td>\n",
       "      <td>12.994056</td>\n",
       "      <td>16.419092</td>\n",
       "      <td>32.651362</td>\n",
       "      <td>25.321996</td>\n",
       "      <td>20.494205</td>\n",
       "      <td>19.487109</td>\n",
       "    </tr>\n",
       "    <tr>\n",
       "      <th>4</th>\n",
       "      <td>511</td>\n",
       "      <td>NBB4709/TPL</td>\n",
       "      <td>TC005</td>\n",
       "      <td>Plasma-1</td>\n",
       "      <td>Baseline</td>\n",
       "      <td>500</td>\n",
       "      <td>AA Group  Box1</td>\n",
       "      <td>I5</td>\n",
       "      <td>AA</td>\n",
       "      <td>NaN</td>\n",
       "      <td>...</td>\n",
       "      <td>24.758416</td>\n",
       "      <td>19.273908</td>\n",
       "      <td>16.365436</td>\n",
       "      <td>13.138726</td>\n",
       "      <td>13.687365</td>\n",
       "      <td>15.765758</td>\n",
       "      <td>33.029370</td>\n",
       "      <td>23.286055</td>\n",
       "      <td>19.863147</td>\n",
       "      <td>20.110713</td>\n",
       "    </tr>\n",
       "  </tbody>\n",
       "</table>\n",
       "<p>5 rows × 429 columns</p>\n",
       "</div>"
      ],
      "text/plain": [
       "   No. Subject Code ISO ID Aliquot number     Visit  Volume provided (ul)  \\\n",
       "0  234  NBB0987/GCS  TC001       Plasma-1  Baseline                   500   \n",
       "1  519  TBB0215/RTB  TC002       Plasma-1  Baseline                   500   \n",
       "2  204   TC0245/NSM  TC003       Plasma-1  Baseline                   500   \n",
       "3  328  TBB0108/CHC  TC004       Plasma-1  Baseline                   500   \n",
       "4  511  NBB4709/TPL  TC005       Plasma-1  Baseline                   500   \n",
       "\n",
       "              Box Position Group Remarks  ...  hsa-miR-185-5p  hsa-miR-421  \\\n",
       "0   A Group  Box1       B8     A     NaN  ...       24.498373    19.221303   \n",
       "1  AA Group  Box2       A4    AA     NaN  ...       24.283489    18.985075   \n",
       "2       CRC Box 3       E6   CRC     NaN  ...       23.682307    17.929571   \n",
       "3   A Group  Box2       D3     A     NaN  ...       25.063000    20.044156   \n",
       "4  AA Group  Box1       I5    AA     NaN  ...       24.758416    19.273908   \n",
       "\n",
       "   hsa-miR-628-5p hsa-miR-3912-3p  hsa-miR-192-3p hsa-miR-340-3p hsa-miR-451a  \\\n",
       "0       16.229505       13.171829       12.559431      15.230967    32.556859   \n",
       "1       16.055242       13.856360       12.478251      15.517929    32.401758   \n",
       "2       15.234474       12.547761       13.415850      14.038877    31.944128   \n",
       "3       17.226877       14.629492       12.994056      16.419092    32.651362   \n",
       "4       16.365436       13.138726       13.687365      15.765758    33.029370   \n",
       "\n",
       "  hsa-miR-199a-3p  hsa-miR-17-3p hsa-miR-365a-5p  \n",
       "0       24.194348      19.892575       19.107364  \n",
       "1       23.435709      19.606120       19.475602  \n",
       "2       22.295617      18.904924       18.364626  \n",
       "3       25.321996      20.494205       19.487109  \n",
       "4       23.286055      19.863147       20.110713  \n",
       "\n",
       "[5 rows x 429 columns]"
      ]
     },
     "execution_count": 3,
     "metadata": {},
     "output_type": "execute_result"
    }
   ],
   "source": [
    "df.head()"
   ]
  },
  {
   "cell_type": "code",
   "execution_count": 4,
   "id": "fca349a5",
   "metadata": {},
   "outputs": [
    {
     "name": "stdout",
     "output_type": "stream",
     "text": [
      "<class 'pandas.core.frame.DataFrame'>\n",
      "RangeIndex: 800 entries, 0 to 799\n",
      "Columns: 429 entries, No. to hsa-miR-365a-5p\n",
      "dtypes: float64(374), int64(9), object(46)\n",
      "memory usage: 2.6+ MB\n"
     ]
    }
   ],
   "source": [
    "df.info()"
   ]
  },
  {
   "cell_type": "code",
   "execution_count": 5,
   "id": "15318ba5",
   "metadata": {},
   "outputs": [
    {
     "data": {
      "text/plain": [
       "No.                0\n",
       "Subject Code       0\n",
       "ISO ID             0\n",
       "Aliquot number     0\n",
       "Visit              0\n",
       "                  ..\n",
       "hsa-miR-340-3p     0\n",
       "hsa-miR-451a       0\n",
       "hsa-miR-199a-3p    0\n",
       "hsa-miR-17-3p      0\n",
       "hsa-miR-365a-5p    0\n",
       "Length: 429, dtype: int64"
      ]
     },
     "execution_count": 5,
     "metadata": {},
     "output_type": "execute_result"
    }
   ],
   "source": [
    "df.isnull().sum()"
   ]
  },
  {
   "cell_type": "code",
   "execution_count": 6,
   "id": "48231edf",
   "metadata": {},
   "outputs": [
    {
     "data": {
      "text/plain": [
       "0            A\n",
       "1           AA\n",
       "2          CRC\n",
       "3            A\n",
       "4           AA\n",
       "        ...   \n",
       "795    Control\n",
       "796        CRC\n",
       "797          A\n",
       "798    Control\n",
       "799          A\n",
       "Name: Type, Length: 800, dtype: object"
      ]
     },
     "execution_count": 6,
     "metadata": {},
     "output_type": "execute_result"
    }
   ],
   "source": [
    "df.Type"
   ]
  },
  {
   "cell_type": "code",
   "execution_count": 7,
   "id": "66800311",
   "metadata": {},
   "outputs": [],
   "source": [
    "x = df.drop('Type',axis=1).iloc[:,56:] #independent features\n",
    "y = (df['Type']=='Control').astype(int) # dependent features"
   ]
  },
  {
   "cell_type": "code",
   "execution_count": 8,
   "id": "e9c36cee",
   "metadata": {},
   "outputs": [],
   "source": [
    "from sklearn.model_selection import train_test_split\n",
    "X_train,X_test,y_train,y_test=train_test_split(x,y,test_size=0.20,random_state=42)"
   ]
  },
  {
   "cell_type": "code",
   "execution_count": 9,
   "id": "28229224",
   "metadata": {},
   "outputs": [],
   "source": [
    "from sklearn.pipeline import Pipeline\n",
    "from sklearn.impute import SimpleImputer ## HAndle Missing Values\n",
    "from sklearn.preprocessing import StandardScaler ## Feature Scaling\n",
    "from sklearn.preprocessing import OneHotEncoder ## categorical to numerical\n",
    "from sklearn.compose import ColumnTransformer"
   ]
  },
  {
   "cell_type": "code",
   "execution_count": 10,
   "id": "5f06a0be",
   "metadata": {},
   "outputs": [],
   "source": [
    "numerical_cols = x.columns\n",
    "categorical_cols = []"
   ]
  },
  {
   "cell_type": "code",
   "execution_count": 11,
   "id": "c04b1bc3",
   "metadata": {},
   "outputs": [],
   "source": [
    "## feature Engineering Automation\n",
    "## Numerical Pipelines\n",
    "num_pipeline=Pipeline(\n",
    "    steps=[\n",
    "        ('imputer',SimpleImputer(strategy='median')), ##Missing Values\n",
    "        ('scaler',StandardScaler()) ## feature Scaling\n",
    "    ]\n",
    "\n",
    ")\n",
    "\n",
    "#categorical Pipeline\n",
    "cat_pipeline=Pipeline(\n",
    "                steps=[\n",
    "                ('imputer',SimpleImputer(strategy='most_frequent')), ## handling Missing values\n",
    "                ('onehotencoder',OneHotEncoder()) ## Categorical features to numerical\n",
    "                ]\n",
    "\n",
    "            )  \n"
   ]
  },
  {
   "cell_type": "code",
   "execution_count": 12,
   "id": "0df07b21",
   "metadata": {},
   "outputs": [],
   "source": [
    "preprocessor=ColumnTransformer([\n",
    "    ('num_pipeline',num_pipeline,numerical_cols),\n",
    "    ('cat_pipeline',cat_pipeline,categorical_cols)\n",
    "\n",
    "])"
   ]
  },
  {
   "cell_type": "code",
   "execution_count": 13,
   "id": "71fd8fd1",
   "metadata": {},
   "outputs": [],
   "source": [
    "X_train=preprocessor.fit_transform(X_train)\n",
    "X_test=preprocessor.transform(X_test)"
   ]
  },
  {
   "cell_type": "code",
   "execution_count": 32,
   "id": "25b0f112",
   "metadata": {},
   "outputs": [],
   "source": [
    "from sklearn.ensemble import RandomForestClassifier\n",
    "from sklearn.linear_model import LogisticRegression\n",
    "from sklearn.tree import DecisionTreeClassifier\n",
    "from sklearn."
   ]
  },
  {
   "cell_type": "code",
   "execution_count": 50,
   "id": "81b945ed",
   "metadata": {},
   "outputs": [],
   "source": [
    "## Model Training Automation\n",
    "models={\n",
    "    'Random Forest':RandomForestClassifier(),\n",
    "    'Logistic Regression':LogisticRegression(),\n",
    "    'Decision Tree':DecisionTreeClassifier(),\n",
    "  \n",
    "}"
   ]
  },
  {
   "cell_type": "code",
   "execution_count": 51,
   "id": "c3d1dc78",
   "metadata": {},
   "outputs": [],
   "source": [
    "from sklearn.metrics import accuracy_score, roc_curve, confusion_matrix,classification_report"
   ]
  },
  {
   "cell_type": "code",
   "execution_count": 56,
   "id": "c567f08f",
   "metadata": {},
   "outputs": [],
   "source": [
    "def evaluate_model(X_train,y_train,X_test,y_test,models,threshold=0.5):\n",
    "    \n",
    "    report = {}\n",
    "    for i in range(len(models)):\n",
    "        model = list(models.values())[i]\n",
    "        # Train model\n",
    "        model.fit(X_train,y_train)\n",
    "\n",
    "            \n",
    "\n",
    "        # Predict Testing data\n",
    "        y_test_pred =model.predict(X_test)\n",
    "\n",
    "        # Get accuracy for test data prediction\n",
    "       \n",
    "        test_model_score = accuracy_score(y_test,y_test_pred)\n",
    "\n",
    "        report[list(models.keys())[i]] =  test_model_score\n",
    "            \n",
    "        cm = confusion_matrix(y_test, y_test_pred)\n",
    "        print(\"Confusion Matrix ({})\".format(i))\n",
    "        print(cm) \n",
    "        \n",
    "         # Calculate the probabilities for ROC curve\n",
    "        if hasattr(model, 'predict_proba'):\n",
    "            y_prob = model.predict_proba(X_test)[:, 1]\n",
    "        else:\n",
    "            raise ValueError(\"Model does not support predict_proba method.\")\n",
    "        \n",
    "        # Apply threshold to model predictions\n",
    "        y_pred_threshold = (y_prob >= threshold).astype(int)\n",
    "\n",
    "        # Compute ROC curve\n",
    "        fpr, tpr, thresholds = roc_curve(y_test, y_prob)\n",
    "\n",
    "        # Plot ROC curve\n",
    "        plt.plot(fpr, tpr)\n",
    "        plt.plot([0,1],[0,1],'k--')\n",
    "        plt.xlabel('False Positive Rate')\n",
    "        plt.ylabel('True Positive Rate')\n",
    "        plt.title('ROC Curve ({})'.format(i))\n",
    "        plt.show()\n",
    "        \n",
    "    return report"
   ]
  },
  {
   "cell_type": "code",
   "execution_count": 57,
   "id": "b294b508",
   "metadata": {},
   "outputs": [],
   "source": [
    "classfier=RandomForestClassifier()"
   ]
  },
  {
   "cell_type": "code",
   "execution_count": 58,
   "id": "32fd06a1",
   "metadata": {},
   "outputs": [
    {
     "name": "stdout",
     "output_type": "stream",
     "text": [
      "Confusion Matrix (0)\n",
      "[[125   1]\n",
      " [ 34   0]]\n"
     ]
    },
    {
     "data": {
      "image/png": "[encoded data removed]",
      "text/plain": [
       "<Figure size 640x480 with 1 Axes>"
      ]
     },
     "metadata": {},
     "output_type": "display_data"
    },
    {
     "name": "stdout",
     "output_type": "stream",
     "text": [
      "Confusion Matrix (1)\n",
      "[[90 36]\n",
      " [27  7]]\n"
     ]
    },
    {
     "data": {
      "image/png": "[encoded data removed]",
      "text/plain": [
       "<Figure size 640x480 with 1 Axes>"
      ]
     },
     "metadata": {},
     "output_type": "display_data"
    },
    {
     "name": "stdout",
     "output_type": "stream",
     "text": [
      "Confusion Matrix (2)\n",
      "[[91 35]\n",
      " [19 15]]\n"
     ]
    },
    {
     "data": {
      "image/png": "[encoded data removed]",
      "text/plain": [
       "<Figure size 640x480 with 1 Axes>"
      ]
     },
     "metadata": {},
     "output_type": "display_data"
    },
    {
     "data": {
      "text/plain": [
       "{'Random Forest': 0.78125,\n",
       " 'Logistic Regression': 0.60625,\n",
       " 'Decision Tree': 0.6625}"
      ]
     },
     "execution_count": 58,
     "metadata": {},
     "output_type": "execute_result"
    }
   ],
   "source": [
    "evaluate_model(X_train,y_train,X_test,y_test,models,threshold=0.5)"
   ]
  },
  {
   "cell_type": "code",
   "execution_count": 20,
   "id": "c4ee3cce",
   "metadata": {},
   "outputs": [],
   "source": [
    "from sklearn.model_selection import RandomizedSearchCV\n",
    "from sklearn.model_selection import GridSearchCV"
   ]
  },
  {
   "cell_type": "code",
   "execution_count": 21,
   "id": "64b32fca",
   "metadata": {},
   "outputs": [],
   "source": [
    "## Hypeparameter Tuning\n",
    "params={'max_depth':[3,6,7,10],\n",
    "              'n_estimators':[100,200,300],\n",
    "               'criterion':['gini','entropy']\n",
    "              }"
   ]
  },
  {
   "cell_type": "code",
   "execution_count": 22,
   "id": "29d57f1a",
   "metadata": {},
   "outputs": [
    {
     "name": "stdout",
     "output_type": "stream",
     "text": [
      "Fitting 5 folds for each of 10 candidates, totalling 50 fits\n",
      "[CV 1/5] END criterion=gini, max_depth=6, n_estimators=100;, score=0.727 total time=   0.3s\n",
      "[CV 2/5] END criterion=gini, max_depth=6, n_estimators=100;, score=0.734 total time=   0.3s\n",
      "[CV 3/5] END criterion=gini, max_depth=6, n_estimators=100;, score=0.734 total time=   0.3s\n",
      "[CV 4/5] END criterion=gini, max_depth=6, n_estimators=100;, score=0.734 total time=   0.4s\n",
      "[CV 5/5] END criterion=gini, max_depth=6, n_estimators=100;, score=0.734 total time=   0.4s\n",
      "[CV 1/5] END criterion=entropy, max_depth=10, n_estimators=300;, score=0.734 total time=   1.8s\n",
      "[CV 2/5] END criterion=entropy, max_depth=10, n_estimators=300;, score=0.734 total time=   2.2s\n",
      "[CV 3/5] END criterion=entropy, max_depth=10, n_estimators=300;, score=0.734 total time=   2.3s\n",
      "[CV 4/5] END criterion=entropy, max_depth=10, n_estimators=300;, score=0.734 total time=   2.2s\n",
      "[CV 5/5] END criterion=entropy, max_depth=10, n_estimators=300;, score=0.734 total time=   1.8s\n",
      "[CV 1/5] END criterion=gini, max_depth=7, n_estimators=100;, score=0.727 total time=   0.2s\n",
      "[CV 2/5] END criterion=gini, max_depth=7, n_estimators=100;, score=0.734 total time=   0.2s\n",
      "[CV 3/5] END criterion=gini, max_depth=7, n_estimators=100;, score=0.734 total time=   0.2s\n",
      "[CV 4/5] END criterion=gini, max_depth=7, n_estimators=100;, score=0.734 total time=   0.3s\n",
      "[CV 5/5] END criterion=gini, max_depth=7, n_estimators=100;, score=0.734 total time=   0.2s\n",
      "[CV 1/5] END criterion=entropy, max_depth=3, n_estimators=300;, score=0.734 total time=   0.8s\n",
      "[CV 2/5] END criterion=entropy, max_depth=3, n_estimators=300;, score=0.734 total time=   0.8s\n",
      "[CV 3/5] END criterion=entropy, max_depth=3, n_estimators=300;, score=0.734 total time=   1.1s\n",
      "[CV 4/5] END criterion=entropy, max_depth=3, n_estimators=300;, score=0.734 total time=   1.1s\n",
      "[CV 5/5] END criterion=entropy, max_depth=3, n_estimators=300;, score=0.734 total time=   1.2s\n",
      "[CV 1/5] END criterion=entropy, max_depth=7, n_estimators=200;, score=0.727 total time=   1.3s\n",
      "[CV 2/5] END criterion=entropy, max_depth=7, n_estimators=200;, score=0.734 total time=   1.2s\n",
      "[CV 3/5] END criterion=entropy, max_depth=7, n_estimators=200;, score=0.734 total time=   1.1s\n",
      "[CV 4/5] END criterion=entropy, max_depth=7, n_estimators=200;, score=0.734 total time=   1.0s\n",
      "[CV 5/5] END criterion=entropy, max_depth=7, n_estimators=200;, score=0.734 total time=   1.2s\n",
      "[CV 1/5] END criterion=gini, max_depth=7, n_estimators=300;, score=0.734 total time=   1.0s\n",
      "[CV 2/5] END criterion=gini, max_depth=7, n_estimators=300;, score=0.734 total time=   0.8s\n",
      "[CV 3/5] END criterion=gini, max_depth=7, n_estimators=300;, score=0.734 total time=   0.9s\n",
      "[CV 4/5] END criterion=gini, max_depth=7, n_estimators=300;, score=0.734 total time=   0.9s\n",
      "[CV 5/5] END criterion=gini, max_depth=7, n_estimators=300;, score=0.734 total time=   0.9s\n",
      "[CV 1/5] END criterion=entropy, max_depth=7, n_estimators=300;, score=0.734 total time=   1.4s\n",
      "[CV 2/5] END criterion=entropy, max_depth=7, n_estimators=300;, score=0.734 total time=   1.4s\n",
      "[CV 3/5] END criterion=entropy, max_depth=7, n_estimators=300;, score=0.734 total time=   1.4s\n",
      "[CV 4/5] END criterion=entropy, max_depth=7, n_estimators=300;, score=0.734 total time=   1.4s\n",
      "[CV 5/5] END criterion=entropy, max_depth=7, n_estimators=300;, score=0.734 total time=   1.5s\n",
      "[CV 1/5] END criterion=entropy, max_depth=6, n_estimators=100;, score=0.734 total time=   0.4s\n",
      "[CV 2/5] END criterion=entropy, max_depth=6, n_estimators=100;, score=0.734 total time=   0.4s\n",
      "[CV 3/5] END criterion=entropy, max_depth=6, n_estimators=100;, score=0.734 total time=   0.4s\n",
      "[CV 4/5] END criterion=entropy, max_depth=6, n_estimators=100;, score=0.734 total time=   0.4s\n",
      "[CV 5/5] END criterion=entropy, max_depth=6, n_estimators=100;, score=0.734 total time=   0.4s\n",
      "[CV 1/5] END criterion=gini, max_depth=7, n_estimators=200;, score=0.727 total time=   0.6s\n",
      "[CV 2/5] END criterion=gini, max_depth=7, n_estimators=200;, score=0.734 total time=   0.6s\n",
      "[CV 3/5] END criterion=gini, max_depth=7, n_estimators=200;, score=0.734 total time=   0.5s\n",
      "[CV 4/5] END criterion=gini, max_depth=7, n_estimators=200;, score=0.734 total time=   0.6s\n",
      "[CV 5/5] END criterion=gini, max_depth=7, n_estimators=200;, score=0.734 total time=   0.6s\n",
      "[CV 1/5] END criterion=entropy, max_depth=6, n_estimators=300;, score=0.734 total time=   1.2s\n",
      "[CV 2/5] END criterion=entropy, max_depth=6, n_estimators=300;, score=0.734 total time=   1.2s\n",
      "[CV 3/5] END criterion=entropy, max_depth=6, n_estimators=300;, score=0.734 total time=   1.3s\n",
      "[CV 4/5] END criterion=entropy, max_depth=6, n_estimators=300;, score=0.734 total time=   1.2s\n",
      "[CV 5/5] END criterion=entropy, max_depth=6, n_estimators=300;, score=0.734 total time=   1.3s\n"
     ]
    },
    {
     "data": {
      "text/plain": [
       "RandomizedSearchCV(cv=5, estimator=RandomForestClassifier(),\n",
       "                   param_distributions={'criterion': ['gini', 'entropy'],\n",
       "                                        'max_depth': [3, 6, 7, 10],\n",
       "                                        'n_estimators': [100, 200, 300]},\n",
       "                   scoring='accuracy', verbose=3)"
      ]
     },
     "execution_count": 22,
     "metadata": {},
     "output_type": "execute_result"
    }
   ],
   "source": [
    "cv=RandomizedSearchCV(classfier,param_distributions=params,scoring='accuracy',cv=5,verbose=3)\n",
    "cv.fit(X_train,y_train)"
   ]
  },
  {
   "cell_type": "code",
   "execution_count": 23,
   "id": "5febb39d",
   "metadata": {},
   "outputs": [
    {
     "data": {
      "text/plain": [
       "{'n_estimators': 300, 'max_depth': 10, 'criterion': 'entropy'}"
      ]
     },
     "execution_count": 23,
     "metadata": {},
     "output_type": "execute_result"
    }
   ],
   "source": [
    "cv.best_params_"
   ]
  },
  {
   "cell_type": "code",
   "execution_count": 24,
   "id": "49ec2a41",
   "metadata": {},
   "outputs": [],
   "source": [
    "parameters={'penalty':('l1','l2','elasticnet',None),'C':[1,10,20]}"
   ]
  },
  {
   "cell_type": "code",
   "execution_count": 25,
   "id": "6b177440",
   "metadata": {},
   "outputs": [],
   "source": [
    "classifier=LogisticRegression(C=1,penalty='l2')"
   ]
  },
  {
   "cell_type": "code",
   "execution_count": 26,
   "id": "3b868b1d",
   "metadata": {},
   "outputs": [],
   "source": [
    "clf=GridSearchCV(classifier,param_grid=parameters,cv=5)"
   ]
  },
  {
   "cell_type": "code",
   "execution_count": 27,
   "id": "b791117d",
   "metadata": {},
   "outputs": [
    {
     "data": {
      "text/plain": [
       "GridSearchCV(cv=5, estimator=LogisticRegression(C=1),\n",
       "             param_grid={'C': [1, 10, 20],\n",
       "                         'penalty': ('l1', 'l2', 'elasticnet', None)})"
      ]
     },
     "execution_count": 27,
     "metadata": {},
     "output_type": "execute_result"
    }
   ],
   "source": [
    "clf.fit(X_train,y_train)"
   ]
  },
  {
   "cell_type": "code",
   "execution_count": 28,
   "id": "c217eb82",
   "metadata": {},
   "outputs": [
    {
     "data": {
      "text/plain": [
       "{'C': 1, 'penalty': 'l2'}"
      ]
     },
     "execution_count": 28,
     "metadata": {},
     "output_type": "execute_result"
    }
   ],
   "source": [
    "clf.best_params_"
   ]
  },
  {
   "cell_type": "code",
   "execution_count": 29,
   "id": "80df839f",
   "metadata": {},
   "outputs": [
    {
     "data": {
      "text/plain": [
       "LogisticRegression(C=1)"
      ]
     },
     "execution_count": 29,
     "metadata": {},
     "output_type": "execute_result"
    }
   ],
   "source": [
    "classifier.fit(X_train,y_train)"
   ]
  },
  {
   "cell_type": "code",
   "execution_count": 30,
   "id": "692e4d9a",
   "metadata": {},
   "outputs": [
    {
     "name": "stdout",
     "output_type": "stream",
     "text": [
      "[[90 27]\n",
      " [36  7]]\n",
      "0.60625\n",
      "              precision    recall  f1-score   support\n",
      "\n",
      "           0       0.71      0.77      0.74       117\n",
      "           1       0.21      0.16      0.18        43\n",
      "\n",
      "    accuracy                           0.61       160\n",
      "   macro avg       0.46      0.47      0.46       160\n",
      "weighted avg       0.58      0.61      0.59       160\n",
      "\n"
     ]
    }
   ],
   "source": [
    "## Prediction \n",
    "y_pred=classifier.predict(X_test)\n",
    "print(confusion_matrix(y_pred,y_test))\n",
    "print(accuracy_score(y_pred,y_test))\n",
    "print(classification_report(y_pred,y_test))"
   ]
  },
  {
   "cell_type": "code",
   "execution_count": null,
   "id": "ef5e29ad",
   "metadata": {},
   "outputs": [],
   "source": []
  },
  {
   "cell_type": "code",
   "execution_count": null,
   "id": "861abebf",
   "metadata": {},
   "outputs": [],
   "source": []
  }
 ],
 "metadata": {
  "kernelspec": {
   "display_name": "Python 3 (ipykernel)",
   "language": "python",
   "name": "python3"
  },
  "language_info": {
   "codemirror_mode": {
    "name": "ipython",
    "version": 3
   },
   "file_extension": ".py",
   "mimetype": "text/x-python",
   "name": "python",
   "nbconvert_exporter": "python",
   "pygments_lexer": "ipython3",
   "version": "3.9.13"
  }
 },
 "nbformat": 4,
 "nbformat_minor": 5
}
